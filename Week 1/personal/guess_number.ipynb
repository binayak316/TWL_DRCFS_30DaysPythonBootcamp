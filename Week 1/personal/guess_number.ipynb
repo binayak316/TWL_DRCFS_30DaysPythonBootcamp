{
 "cells": [
  {
   "cell_type": "code",
   "execution_count": null,
   "metadata": {},
   "outputs": [],
   "source": []
  },
  {
   "cell_type": "markdown",
   "metadata": {},
   "source": [
    "<!-- Guessing Game -->\n",
    "1. generate the random number (random module)\n",
    "\n",
    "2. Create the loop -----\n",
    "\n",
    "    1. Take input from user int   (input from the user)\n",
    "    2. compare the number: (if /else)\n",
    "    lower = \"the number  is lower\"\n",
    "    greater = \"the number is higher\"\n",
    "\n",
    "\n",
    "this process iterates until the number is satisfied /found"
   ]
  },
  {
   "cell_type": "code",
   "execution_count": null,
   "metadata": {},
   "outputs": [],
   "source": []
  }
 ],
 "metadata": {
  "kernelspec": {
   "display_name": "Python 3.10.6 64-bit",
   "language": "python",
   "name": "python3"
  },
  "language_info": {
   "name": "python",
   "version": "3.10.6 (main, Nov  2 2022, 18:53:38) [GCC 11.3.0]"
  },
  "orig_nbformat": 4,
  "vscode": {
   "interpreter": {
    "hash": "916dbcbb3f70747c44a77c7bcd40155683ae19c65e1c03b4aa3499c5328201f1"
   }
  }
 },
 "nbformat": 4,
 "nbformat_minor": 2
}
