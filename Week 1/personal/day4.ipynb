{
 "cells": [
  {
   "cell_type": "code",
   "execution_count": 3,
   "metadata": {},
   "outputs": [
    {
     "name": "stdout",
     "output_type": "stream",
     "text": [
      "['ram', 'shyam', 'hari', 'pari', 'jhari', 'tari', 'nari', 'chari']\n"
     ]
    }
   ],
   "source": [
    "mentor_name = ['ram','shyam','hari','pari','jhari','tari','nari','chari']\n",
    "print(mentor_name)"
   ]
  },
  {
   "cell_type": "code",
   "execution_count": 8,
   "metadata": {},
   "outputs": [
    {
     "name": "stdout",
     "output_type": "stream",
     "text": [
      "ram\n",
      "shyam\n",
      "hari\n",
      "pari\n",
      "jhari\n",
      "tari\n",
      "nari\n",
      "chari\n",
      "binayak\n",
      "binayak\n",
      "binayak\n",
      "['ram', 'shyam', 'hari', 'pari', 'jhari', 'tari', 'nari', 'chari', 'binayak', 'binayak', 'binayak', 'binayak']\n"
     ]
    }
   ],
   "source": [
    "for m in mentor_name:\n",
    "    # print(m)\n",
    "    print(m)\n",
    "mentor_name.append(\"binayak\")\n",
    "# print(mentor_name)\n",
    "print(mentor_name)"
   ]
  },
  {
   "cell_type": "code",
   "execution_count": 9,
   "metadata": {},
   "outputs": [
    {
     "name": "stdout",
     "output_type": "stream",
     "text": [
      "ram\n",
      "shyam\n",
      "hari\n",
      "pari\n",
      "jhari\n",
      "tari\n",
      "nari\n",
      "chari\n",
      "binayak\n",
      "binayak\n",
      "binayak\n",
      "binayak\n",
      "['ram', 'shyam', 'hari', 'pari', 'jhari', 'tari', 'nari', 'chari', 'binayak', 'binayak', 'binayak', 'binayak', 'kalu']\n"
     ]
    }
   ],
   "source": [
    "for m in mentor_name:\n",
    "    # print(m)\n",
    "    print(m)\n",
    "mentor_name.append(\"kalu\")\n",
    "# print(mentor_name)\n",
    "print(mentor_name)"
   ]
  },
  {
   "cell_type": "code",
   "execution_count": null,
   "metadata": {},
   "outputs": [],
   "source": []
  },
  {
   "cell_type": "markdown",
   "metadata": {},
   "source": [
    "List is mutable , we can change things in this variable\n",
    "a = 'ram'\n",
    "b = 'jan'\n",
    "a = 'abc'\n",
    "li = [1,2,3]\n",
    "li.append(4)\n"
   ]
  },
  {
   "cell_type": "code",
   "execution_count": 25,
   "metadata": {},
   "outputs": [
    {
     "name": "stdout",
     "output_type": "stream",
     "text": [
      "[1, 2, 3, 4]\n",
      "[2, 3, 4]\n",
      "[2, 3, 4, 9]\n",
      "['ram', 2, 3, 4, 9]\n",
      "[1, 2, 3, 4, 9]\n",
      "[1, 3, 4, 9]\n",
      "[3, 4, 9]\n"
     ]
    }
   ],
   "source": [
    "a = 'ram'\n",
    "b = 'jan'\n",
    "a = 'abc'\n",
    "li = [1,2,3]\n",
    "li.append(4)\n",
    "print(li)\n",
    "li.pop(0)\n",
    "print(li)\n",
    "li.insert(3,9)\n",
    "print(li)\n",
    "li.insert(0,'ram')\n",
    "print(li)\n",
    "li[0]=1\n",
    "print(li)\n",
    "li.remove(2)\n",
    "print(li)\n",
    "li.remove(1)\n",
    "print(li)"
   ]
  },
  {
   "cell_type": "markdown",
   "metadata": {},
   "source": []
  },
  {
   "cell_type": "code",
   "execution_count": 12,
   "metadata": {},
   "outputs": [
    {
     "name": "stdout",
     "output_type": "stream",
     "text": [
      "ramthapa\n"
     ]
    }
   ],
   "source": [
    "# string is always imutable\n",
    "name = 'ram'\n",
    "name = name + 'thapa'\n",
    "print(name)"
   ]
  },
  {
   "cell_type": "markdown",
   "metadata": {},
   "source": [
    "list vs tuple\n",
    "list \n",
    "initialization -> [1,2]\n",
    "mutable\n",
    "\n",
    "<!-- tuple le less space linxa kunai change nagarne value ligda tuple liyinxa -->\n",
    "tuple: value access garna painxa interior mutable /change garna mildena\n",
    "initialization ->('something','something)\n",
    "imutable\n"
   ]
  },
  {
   "cell_type": "code",
   "execution_count": 26,
   "metadata": {},
   "outputs": [
    {
     "name": "stdout",
     "output_type": "stream",
     "text": [
      "red\n",
      "blue\n",
      "neon\n",
      "pink\n",
      "black\n",
      "green\n",
      "indigo\n",
      "orange\n"
     ]
    }
   ],
   "source": [
    "# tuple\n",
    "colors = ('red','blue','neon','pink','black','green','indigo','orange')\n",
    "for color in colors:\n",
    "    print(color)"
   ]
  },
  {
   "cell_type": "code",
   "execution_count": 28,
   "metadata": {},
   "outputs": [
    {
     "name": "stdout",
     "output_type": "stream",
     "text": [
      "(0, 'red')\n",
      "(1, 'blue')\n",
      "(2, 'neon')\n",
      "(3, 'pink')\n",
      "(4, 'black')\n",
      "(5, 'green')\n",
      "(6, 'indigo')\n",
      "(7, 'orange')\n"
     ]
    }
   ],
   "source": [
    "# index = colors.index('green')\n",
    "# print(index)\n",
    "for val in enumerate(colors):\n",
    "    print(val)"
   ]
  },
  {
   "cell_type": "markdown",
   "metadata": {},
   "source": [
    "Tuple is more efficient than the list"
   ]
  },
  {
   "cell_type": "code",
   "execution_count": 2,
   "metadata": {},
   "outputs": [
    {
     "name": "stdout",
     "output_type": "stream",
     "text": [
      "3\n"
     ]
    }
   ],
   "source": [
    "x = input(\"enter the first:\")\n",
    "y = input(\"enter the second:\")\n",
    "\n",
    "print(int(x) + int(y))"
   ]
  },
  {
   "cell_type": "code",
   "execution_count": 18,
   "metadata": {},
   "outputs": [
    {
     "name": "stdout",
     "output_type": "stream",
     "text": [
      "pond\n",
      "ronaldo\n"
     ]
    }
   ],
   "source": [
    "# dictionary login sys\n",
    "use_pass = {\n",
    "    'duck':'pond',\n",
    "'goat':'ronaldo',\n",
    "'tall':'binayak'\n",
    "}\n",
    "\n",
    "# print(use_pass)\n",
    "# accessing value from dictionary\n",
    "print(use_pass.get('duck')) #this get method is better than the getting value on the list\n",
    "# another method to access value from dictionary\n",
    "# it throws keyerror if the key is not found in dictionary\n",
    "print(use_pass['goat'])"
   ]
  },
  {
   "cell_type": "code",
   "execution_count": 19,
   "metadata": {},
   "outputs": [
    {
     "name": "stdout",
     "output_type": "stream",
     "text": [
      "lake\n",
      "{'duck': 'lake', 'goat': 'ronaldo', 'tall': 'binayak'}\n"
     ]
    }
   ],
   "source": [
    "# replacing the value using key\n",
    "use_pass['duck']='lake'\n",
    "print(use_pass.get('duck'))\n",
    "print(use_pass)"
   ]
  },
  {
   "cell_type": "code",
   "execution_count": 20,
   "metadata": {},
   "outputs": [
    {
     "name": "stdout",
     "output_type": "stream",
     "text": [
      "{'duck': 'ocean', 'goat': 'ronaldo', 'tall': 'binayak'}\n"
     ]
    }
   ],
   "source": [
    "use_pass = {\n",
    "    'duck':'pond',\n",
    "    'goat':'ronaldo',\n",
    "    'tall':'binayak', \n",
    "    'duck':'ocean'\n",
    "    }\n",
    "print(use_pass)\n",
    "# if i replace value again then the value will be changed"
   ]
  },
  {
   "cell_type": "code",
   "execution_count": 32,
   "metadata": {},
   "outputs": [
    {
     "name": "stdout",
     "output_type": "stream",
     "text": [
      "('duck', 'ocean')\n",
      "('goat', 'ronaldo')\n",
      "('tall', 'binayak')\n"
     ]
    }
   ],
   "source": [
    "# use_pass.clear() clears all those values\n",
    "\n",
    "# print(use_pass.items())\n",
    "\n",
    "for up in use_pass.items():\n",
    "    # print(up[0])\n",
    "    print(up)\n",
    "    "
   ]
  },
  {
   "attachments": {},
   "cell_type": "markdown",
   "metadata": {},
   "source": [
    "<!-- login system -->\n",
    "1. take input from the user , get username and pw\n",
    "2. try to get their password from the dictionary\n",
    "3. if the pw is none , user doesn't exist\n",
    "4. if the pw matches the pw given by user then say your are logged in"
   ]
  },
  {
   "cell_type": "code",
   "execution_count": 42,
   "metadata": {},
   "outputs": [
    {
     "name": "stdout",
     "output_type": "stream",
     "text": [
      "user not exist\n"
     ]
    }
   ],
   "source": [
    "# login sys \n",
    "# i will fix this later\n",
    "usee_pass = {\n",
    "    'nepal':'pond',\n",
    "    'goat':'ronaldo',\n",
    "    'tall':'binayak', \n",
    "    'duck':'ocean'\n",
    "    }\n",
    "username = input('what is your username?')\n",
    "input_password = input('enter your password')\n",
    "\n",
    "real_pw = usee_pass.get(username)\n",
    "\n",
    "if real_pw is None:\n",
    "    print('user not exist')\n",
    "elif real_pw == input_password:\n",
    "    print('u are logged in')\n",
    "else:\n",
    "    print('incorrect pw')\n",
    "    \n"
   ]
  }
 ],
 "metadata": {
  "kernelspec": {
   "display_name": "Python 3.10.6 64-bit",
   "language": "python",
   "name": "python3"
  },
  "language_info": {
   "codemirror_mode": {
    "name": "ipython",
    "version": 3
   },
   "file_extension": ".py",
   "mimetype": "text/x-python",
   "name": "python",
   "nbconvert_exporter": "python",
   "pygments_lexer": "ipython3",
   "version": "3.10.6 (main, Nov  2 2022, 18:53:38) [GCC 11.3.0]"
  },
  "orig_nbformat": 4,
  "vscode": {
   "interpreter": {
    "hash": "916dbcbb3f70747c44a77c7bcd40155683ae19c65e1c03b4aa3499c5328201f1"
   }
  }
 },
 "nbformat": 4,
 "nbformat_minor": 2
}
